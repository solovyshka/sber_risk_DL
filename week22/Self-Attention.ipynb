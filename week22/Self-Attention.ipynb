{
 "cells": [
  {
   "cell_type": "markdown",
   "metadata": {},
   "source": [
    "# Self-Attention"
   ]
  },
  {
   "cell_type": "markdown",
   "metadata": {},
   "source": [
    "![\"TransformerArch\"](./images/TransformerArch.png 'TransformerArch')"
   ]
  },
  {
   "cell_type": "markdown",
   "metadata": {},
   "source": [
    "Механизм внимания помогает сети установить логичные связи для построения более качественных латентных векторов."
   ]
  },
  {
   "cell_type": "markdown",
   "metadata": {},
   "source": [
    "## Реализация Self-Attention"
   ]
  },
  {
   "cell_type": "markdown",
   "metadata": {},
   "source": [
    "![\"Self-Attention\"](./images/SA_details.png 'Self-Attention')"
   ]
  },
  {
   "cell_type": "markdown",
   "metadata": {},
   "source": [
    "## Формула в матричном виде"
   ]
  },
  {
   "cell_type": "markdown",
   "metadata": {},
   "source": [
    "![\"Formula\"](./images/Formula.png 'Formula')"
   ]
  },
  {
   "cell_type": "code",
   "execution_count": null,
   "metadata": {},
   "outputs": [],
   "source": [
    "import torch\n",
    "import torch.nn as nn"
   ]
  },
  {
   "cell_type": "code",
   "execution_count": null,
   "metadata": {},
   "outputs": [],
   "source": [
    "class SelfAttention(nn.Module):\n",
    "    \n",
    "    def __init__(self, input_size, output_size):\n",
    "        super(SelfAttention, self).__init__()\n",
    "        \n",
    "        self.W_q = nn.Linear(inptu_size, output_size)\n",
    "        self.W_k = nn.Linear(inptu_size, output_size)\n",
    "        self.W_v = nn.Linear(inptu_size, output_size)\n",
    "        \n",
    "        return\n",
    "    \n",
    "    def forward(self, embeddings):\n",
    "        query = self.W_q(embeddings)\n",
    "        key = self.W_k(embeddings)\n",
    "        value = self.W_v(embeddings)\n",
    "        \n",
    "        k_tr = torch.transpose(key, 3, 2)\n",
    "        \n",
    "        score = #TODO\n",
    "        \n",
    "        return score\n",
    "        "
   ]
  }
 ],
 "metadata": {
  "kernelspec": {
   "display_name": "Python 3",
   "language": "python",
   "name": "python3"
  },
  "language_info": {
   "codemirror_mode": {
    "name": "ipython",
    "version": 3
   },
   "file_extension": ".py",
   "mimetype": "text/x-python",
   "name": "python",
   "nbconvert_exporter": "python",
   "pygments_lexer": "ipython3",
   "version": "3.8.5"
  }
 },
 "nbformat": 4,
 "nbformat_minor": 4
}
