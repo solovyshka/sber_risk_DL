{
 "cells": [
  {
   "cell_type": "markdown",
   "metadata": {},
   "source": [
    "# Self-Attention"
   ]
  },
  {
   "cell_type": "markdown",
   "metadata": {},
   "source": [
    "![\"TransformerArch\"](./images/TransformerArch.png 'TransformerArch')"
   ]
  },
  {
   "cell_type": "markdown",
   "metadata": {},
   "source": [
    "Механизм внимания помогает сети установить логичные связи для построения более качественных латентных векторов."
   ]
  },
  {
   "cell_type": "markdown",
   "metadata": {},
   "source": [
    "## Реализация Self-Attention"
   ]
  },
  {
   "cell_type": "markdown",
   "metadata": {},
   "source": [
    "![\"Self-Attention\"](./images/SA_details.png 'Self-Attention')"
   ]
  },
  {
   "cell_type": "markdown",
   "metadata": {},
   "source": [
    "## Формула в матричном виде"
   ]
  },
  {
   "cell_type": "markdown",
   "metadata": {},
   "source": [
    "![\"Formula\"](./images/Formula.png 'Formula')"
   ]
  },
  {
   "cell_type": "code",
   "execution_count": null,
   "metadata": {},
   "outputs": [],
   "source": [
    "import torch\n",
    "import torch.nn as nn"
   ]
  },
  {
   "cell_type": "code",
   "execution_count": null,
   "metadata": {},
   "outputs": [],
   "source": [
    "class SelfAttention(nn.Module):\n",
    "    \n",
    "    def __init__(self, input_size, output_size=64):\n",
    "        super(SelfAttention, self).__init__()\n",
    "        \n",
    "        self.input_size = input_size\n",
    "        self.output_size = output_size\n",
    "        self.coeff = torch.sqrt(output_size)\n",
    "        \n",
    "        self.W_q = nn.Linear(input_size, output_size)\n",
    "        self.W_k = nn.Linear(input_size, output_size)\n",
    "        self.W_v = nn.Linear(input_size, output_size)\n",
    "        \n",
    "        self.softmax = nn.Softmax()\n",
    "        \n",
    "        return\n",
    "    \n",
    "    def forward(self, embeddings):\n",
    "        # [batch_size, nrof_words, embd_dim]\n",
    "        # [[1, 2, 3],\n",
    "        #  [4, 5, 6]]\n",
    "        query = self.W_q(embeddings)\n",
    "        key = self.W_k(embeddings)\n",
    "        value = self.W_v(embeddings)\n",
    "\n",
    "        # dim(key) == dim(query) == dim(value) == [batch_size, nrof_words, output_size]\n",
    "        k_tr = torch.transpose(key, 2, 1)\n",
    "        score = torch.matmul(query, k_tr)\n",
    "\n",
    "        score = torch.div(score, self.coeff) # score / self.coeff\n",
    "\n",
    "        score = self.softmax(score)\n",
    "\n",
    "        output = torch.mul(score, value)\n",
    "\n",
    "        return output\n",
    "        "
   ]
  },
  {
   "cell_type": "code",
   "execution_count": null,
   "metadata": {},
   "outputs": [],
   "source": [
    "#Toy example\n",
    "test_sample = torch.FloatTensor([[[1, 2, 3], [4, 5, 6], [2, 3, 6]],\n",
    "               [[7, 2, 1], [8, 5, 2], [0, 0, 0]]])"
   ]
  },
  {
   "cell_type": "code",
   "execution_count": null,
   "metadata": {},
   "outputs": [],
   "source": [
    "word_embd_dim = 3\n",
    "output_size = 3\n",
    "attention = SelfAttention(word_embd_dim, output_size)\n",
    "attention(test_sample)"
   ]
  }
 ],
 "metadata": {
  "kernelspec": {
   "display_name": "Python 3",
   "language": "python",
   "name": "python3"
  },
  "language_info": {
   "codemirror_mode": {
    "name": "ipython",
    "version": 3
   },
   "file_extension": ".py",
   "mimetype": "text/x-python",
   "name": "python",
   "nbconvert_exporter": "python",
   "pygments_lexer": "ipython3",
   "version": "3.8.5"
  }
 },
 "nbformat": 4,
 "nbformat_minor": 4
}
