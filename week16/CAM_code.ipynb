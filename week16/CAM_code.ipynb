{
 "cells": [
  {
   "cell_type": "code",
   "execution_count": null,
   "metadata": {
    "collapsed": true
   },
   "outputs": [],
   "source": [
    "pip install torchvision\n",
    "pip install opencv-python"
   ]
  },
  {
   "cell_type": "code",
   "execution_count": null,
   "metadata": {},
   "outputs": [],
   "source": [
    "import torch\n",
    "import numpy as np\n",
    "import cv2\n",
    "\n",
    "from torchvision import models, transforms\n",
    "from PIL import Image\n",
    "\n",
    "from week16.CAM_vis import CAM_localization\n",
    "from week16.imagenet_class_map import imagenet_classmap"
   ]
  },
  {
   "cell_type": "heading",
   "metadata": {},
   "level": 1,
   "source": [
    "Создаем модель"
   ]
  },
  {
   "cell_type": "code",
   "execution_count": null,
   "metadata": {},
   "outputs": [],
   "source": [
    "resnet = models.resnet50(pretrained=True)\n",
    "# Достаем обучающие параметры\n",
    "params = list(resnet.parameters())\n",
    "# и потом берем только веса последнего полносвязного слоя\n",
    "weights_softmax = np.squeeze(params[-2].data.numpy())\n",
    "\n",
    "# Forward модели\n",
    "res50_model = models.resnet50(pretrained=True)\n",
    "\n",
    "# Пишем callback, который сработает,\n",
    "# когда хотим достать выход после нужного слоя\n",
    "last_convs = []\n",
    "def hook(module, input, output):\n",
    "    last_convs.append(output)\n",
    "        \n",
    "res50_model.layer4[2].conv3.register_forward_hook(hook)"
   ]
  },
  {
   "cell_type": "code",
   "execution_count": null,
   "metadata": {},
   "outputs": [],
   "source": [
    "def model_forward(batch_t):\n",
    "    resnet = models.resnet50(pretrained=True)\n",
    "    params = list(resnet.parameters())\n",
    "    weights_softmax = np.squeeze(params[-2].data.numpy())\n",
    "\n",
    "    last_convs = []\n",
    "    def hook(module, input, output):\n",
    "        last_convs.append(output)\n",
    "\n",
    "    res50_model = models.resnet50(pretrained=True)\n",
    "    res50_model.layer4[2].conv3.register_forward_hook(hook)\n",
    "\n",
    "    out = res50_model(batch_t)\n",
    "    class_idx = np.argmax(out[0].detach().numpy())\n",
    "    print(class_idx, imagenet_classmap[class_idx])\n",
    "\n",
    "    return class_idx, last_convs, weights_softmax"
   ]
  },
  {
   "cell_type": "code",
   "execution_count": null,
   "metadata": {},
   "outputs": [],
   "source": [
    ""
   ]
  }
 ],
 "metadata": {
  "kernelspec": {
   "display_name": "Python 2",
   "language": "python",
   "name": "python2"
  },
  "language_info": {
   "codemirror_mode": {
    "name": "ipython",
    "version": 2.0
   },
   "file_extension": ".py",
   "mimetype": "text/x-python",
   "name": "python",
   "nbconvert_exporter": "python",
   "pygments_lexer": "ipython2",
   "version": "2.7.6"
  }
 },
 "nbformat": 4,
 "nbformat_minor": 0
}